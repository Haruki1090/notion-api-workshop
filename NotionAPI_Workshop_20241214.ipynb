{
  "nbformat": 4,
  "nbformat_minor": 0,
  "metadata": {
    "colab": {
      "provenance": []
    },
    "kernelspec": {
      "name": "python3",
      "display_name": "Python 3"
    },
    "language_info": {
      "name": "python"
    }
  },
  "cells": [
    {
      "cell_type": "code",
      "execution_count": null,
      "metadata": {
        "id": "AnD7Hr4LBmy4"
      },
      "outputs": [],
      "source": [
        "pip install notion-client"
      ]
    },
    {
      "cell_type": "code",
      "source": [
        "from notion_client import Client\n",
        "\n",
        "# Notion APIキーを設定\n",
        "NOTION_API_KEY = \"あなたのインテグレーションシークレットキーをここへ\"\n",
        "notion = Client(auth=NOTION_API_KEY)\n",
        "\n",
        "# データベースID\n",
        "database_id = \"あなたのデータベースIDをここへ\""
      ],
      "metadata": {
        "id": "5nE3Yfn7B1R_"
      },
      "execution_count": 2,
      "outputs": []
    },
    {
      "cell_type": "code",
      "source": [
        "# データベースの内容を取得\n",
        "response = notion.databases.query(\n",
        "    **{\n",
        "        \"database_id\": database_id,\n",
        "    }\n",
        ")\n",
        "\n",
        "# データ一覧を表示\n",
        "for data in response['results']:\n",
        "    data_name = data['properties']['タスク']['title'][0]\n",
        "    print(data_name)\n"
      ],
      "metadata": {
        "id": "YebYi6-uCiM8"
      },
      "execution_count": null,
      "outputs": []
    },
    {
      "cell_type": "markdown",
      "source": [
        "**＜注意＞**\n",
        "\n",
        "```\n",
        "data_name = data['properties']['タスク']['title'][0]\n",
        "```\n",
        "これはあなたのNotionデータベースのプロパティ名に一致させてください。\n",
        "\n",
        "例） \\\n",
        "「タスク」→ `data_name = data['properties']['タスク']['title'][0]` \\\n",
        "「タイトル」→ `data_name = data['properties']['タイトル']['title'][0]`\n"
      ],
      "metadata": {
        "id": "toWt_dkiG53Y"
      }
    },
    {
      "cell_type": "code",
      "source": [
        "# データベースに新しいページを追加\n",
        "response = notion.pages.create(\n",
        "    parent={\"database_id\": database_id},\n",
        "    properties={\n",
        "        \"タスク\": {\n",
        "            \"title\": [\n",
        "                {\n",
        "                    \"text\": {\"content\": \"Colabで作成したコンテンツ\"}\n",
        "                }\n",
        "            ]\n",
        "        },\n",
        "    }\n",
        ")\n",
        "\n",
        "print(\"Page created:\", response['id'])\n"
      ],
      "metadata": {
        "id": "sFL9kkBqCnit"
      },
      "execution_count": null,
      "outputs": []
    },
    {
      "cell_type": "markdown",
      "source": [
        "**＜注意＞**\n",
        "\n",
        "```\n",
        "properties={\n",
        "        \"タスク\": {\n",
        "            \"title\": [\n",
        "                {\n",
        "                    \"text\": {\"content\": \"Colabで作成したコンテンツ\"}\n",
        "                }\n",
        "            ]\n",
        "        },\n",
        "    }\n",
        "```\n",
        "これはあなたのNotionデータベースのプロパティ名に一致させてください。"
      ],
      "metadata": {
        "id": "1n8NPjq9Hf3B"
      }
    }
  ]
}